{
  "nbformat": 4,
  "nbformat_minor": 0,
  "metadata": {
    "colab": {
      "provenance": []
    },
    "kernelspec": {
      "name": "python3",
      "display_name": "Python 3"
    },
    "language_info": {
      "name": "python"
    }
  },
  "cells": [
    {
      "cell_type": "markdown",
      "source": [
        "# Introduction\n",
        "\n",
        "This notebook contains the coding assignment for Akridata's ML internships (September 2025).\n",
        "\n",
        "  * [Job description](https://docs.google.com/document/d/e/2PACX-1vRwHkY0TLebdoe-meFsgM3p3DdReJq5Kl1fVN5-tHZrYEuXwo7vYvbIkxa2oQNH4D26Hsv9wP7Mup1l/pub)\n",
        "  * [Application form](https://docs.google.com/forms/d/e/1FAIpQLSdTW9OQXXlHkjKCcxgil4H3BgwPvOrlnqzL0JsqBh5xyAK0aQ/viewform?usp=dialog)\n",
        "\n",
        "## Why This Assignment Exists\n",
        "\n",
        "We receive far more applications than we can meaningfully review — it's too easy to click “Apply” online. That flood inevitably includes many who aren't a fit for the role. We don't want to filter by college names or grades alone.\n",
        "\n",
        "So we add **a bit of friction**: a real, hands-on task. Yes, it's extra work — but it's a better signal than a resume or a keyword-stuffed LinkedIn profile.\n",
        "\n",
        "We've picked something that:\n",
        "- Is technically straightforward to complete in a reasonable time.\n",
        "- Is interesting and directly relevant to the problems we solve.\n",
        "- Gives you a taste of how we actually work.\n",
        "\n",
        "\n",
        "## Publishing Your Code\n",
        "\n",
        "Once the interview process wraps up, we encourage you to publish your solution and add it to your portfolio. Until then, please keep it private so everyone gets a fair shot.\n",
        "\n",
        "## The Task: Defect Classification\n",
        "\n",
        "At Akridata, we focus on the **critical edge cases of manufacturing inspection** — where failures are costly, dangerous, or both.  \n",
        "Think precision lenses and glass components that could shatter, ball bearings that can fail in high-stress machinery, or kilometers of railway track that no human can realistically inspect end-to-end. We also handle inspection problems where rules-based computer vision falls short — like detecting subtle miswirings in cable assemblies, spotting PCB defects in complex layouts, or checking extremely small parts where manual inspection is painfully slow.\n",
        "\n",
        "This task gives you a glimpse into vision-based inspection work.  \n",
        "You'll tackle **zero-shot defect classification** for a real-world-like case: detecting surface defects in hazelnut images from the MVTec-AD dataset, using OpenAI's `CLIP` vision-language model.\n"
      ],
      "metadata": {
        "id": "1XsPE95HC8AA"
      }
    },
    {
      "cell_type": "markdown",
      "source": [
        "# IMPORTANT\n",
        "\n",
        "## Before proceeding, copy this notebook into your Google Drive, and make changes to your local copy.\n",
        "\n",
        "You have to share the link to your local copy."
      ],
      "metadata": {
        "id": "waDa7t2OG8M9"
      }
    },
    {
      "cell_type": "markdown",
      "source": [
        "# Zero-Shot Defect Classification with CLIP (Git + Colab Workflow)\n",
        "\n",
        "## Overview\n",
        "\n",
        "In this assignment, you will:\n",
        "- Use OpenAI's CLIP model to perform zero-shot defect classification on the `hazelnut` subset of the MVTec-AD dataset (test split).\n",
        "- Implement a configuration class (Pydantic) and a classification function in Python.\n",
        "- Practice basic Git workflows: branching, committing, merging, and preserving commit history.\n",
        "- Run your completed code on real image data and produce a confusion matrix.\n",
        "\n",
        "All work must be done entirely inside this Colab notebook, including:\n",
        "- Running Git commands\n",
        "- Editing files in the cloned repository\n",
        "- Installing and importing packages\n",
        "\n",
        "We will run the code in this notebook to verify the submission.\n",
        "\n",
        "*The cells marked as 'TO DO' are the ones where you have to edit code (or text).*\n",
        "\n",
        "\n",
        "---\n",
        "\n",
        "## Task Sequence\n",
        "\n",
        "\n",
        "* **Data Setup**\n",
        "   - Download and extract the MVTec-AD dataset.\n",
        "   - Verify that `hazelnut` images are present in the test split.\n",
        "\n",
        "* **Repository Setup**\n",
        "   - Clone the provided repository into your Colab environment.\n",
        "   - Switch to the `feature` branch for development.\n",
        "   - Place the hazelnut images from the test split inside the `data/` directory of the cloned repository.\n",
        "\n",
        "* **Implementation**\n",
        "   - Complete the `DefectClassificationSpec` class in `spec.py`.\n",
        "   - Complete the `classify_defects()` function in `classification.py`.\n",
        "\n",
        "* **Execution**\n",
        "   - Run your classification function on the downloaded test dataset.\n",
        "   - Generate and display a confusion matrix comparing predictions with ground truth.\n",
        "\n",
        "* **Git Workflow**\n",
        "   - Commit your changes to the `feature` branch.\n",
        "   - Merge the `feature` branch into the `main` branch.\n",
        "   - Switch to `main` to prepare for execution.\n",
        "\n",
        "* **Submission**\n",
        "   - Leave all code cells and outputs visible in this notebook.\n",
        "   - Generate a link to the notebook using the `Share` button in the top-right of the Colab page.\n",
        "   - Verify that you can see the contents of the notebook from a different browser where you are not signed in to your account.\n",
        "   - Share the link to the notebook in our application form.\n",
        "\n",
        "## References\n",
        "- [CLIP](https://github.com/openai/CLIP)\n",
        "- [MVTec-AD](https://www.mvtec.com/company/research/datasets/mvtec-ad)\n",
        "- [Pydantic](https://docs.pydantic.dev/latest/)\n",
        "- [CLIP-AC (WinCLIP)](https://arxiv.org/abs/2303.14814)\n",
        "  - See section 4.1 in the WinCLIP paper for a\n",
        "    basic two-class design for anomaly classification.\n",
        "  - Extend this to a defect classification problem for multiple defect classes for this task."
      ],
      "metadata": {
        "id": "Uni69hgrOgEh"
      }
    },
    {
      "cell_type": "markdown",
      "source": [
        "# Download and extract dataset"
      ],
      "metadata": {
        "id": "vpn8zXSBuREa"
      }
    },
    {
      "cell_type": "code",
      "source": [
        "#@title Download a the dataset sample from Supervisely\n",
        "!curl https://assets.supervisely.com/supervisely-supervisely-assets-public/teams_storage/W/6/pt/ANAGVgKaC62tTrDQWK5JhNP2dd8ynqaTKSM1QdVoAasmTdaLvBwCuW7nCrq9o9lLS2padKnV9QogVGFlEPg7vxEBPIfuFC2Yq7ELNW7xn2t1egLrQPoGpNFJobhh.tar --output mvtec.tar"
      ],
      "metadata": {
        "id": "re_O7sYqsyMm",
        "colab": {
          "base_uri": "https://localhost:8080/"
        },
        "outputId": "df60ad1e-d0f8-4bce-ec72-374a8db5b166"
      },
      "execution_count": 41,
      "outputs": [
        {
          "output_type": "stream",
          "name": "stdout",
          "text": [
            "  % Total    % Received % Xferd  Average Speed   Time    Time     Time  Current\n",
            "                                 Dload  Upload   Total   Spent    Left  Speed\n",
            "100  548M  100  548M    0     0  20.6M      0  0:00:26  0:00:26 --:--:-- 23.7M\n"
          ]
        }
      ]
    },
    {
      "cell_type": "code",
      "source": [
        "#@title Extract the tarball 'mvtec.tar' and look for test images for the hazelnut subset\n",
        "!tar -xf mvtec.tar\n",
        "!ls test/img/hazelnut_*"
      ],
      "metadata": {
        "id": "MZA-1oGGtLlP",
        "colab": {
          "base_uri": "https://localhost:8080/"
        },
        "outputId": "b55b5684-05cc-4b2c-d8d0-aa98d2da8989"
      },
      "execution_count": 42,
      "outputs": [
        {
          "output_type": "stream",
          "name": "stdout",
          "text": [
            "tar: Removing leading `/' from member names\n",
            "test/img/hazelnut_crack_002.png  test/img/hazelnut_print_004.png\n",
            "test/img/hazelnut_cut_003.png\t test/img/hazelnut_print_005.png\n",
            "test/img/hazelnut_good_023.png\t test/img/hazelnut_print_006.png\n",
            "test/img/hazelnut_good_037.png\t test/img/hazelnut_print_007.png\n",
            "test/img/hazelnut_hole_005.png\t test/img/hazelnut_print_009.png\n",
            "test/img/hazelnut_hole_010.png\t test/img/hazelnut_print_011.png\n",
            "test/img/hazelnut_hole_013.png\t test/img/hazelnut_print_012.png\n",
            "test/img/hazelnut_hole_016.png\t test/img/hazelnut_print_013.png\n",
            "test/img/hazelnut_print_003.png  test/img/hazelnut_print_016.png\n"
          ]
        }
      ]
    },
    {
      "cell_type": "markdown",
      "source": [
        "# Clone the repo\n",
        "\n",
        "This is the repo to clone:\n",
        "\n",
        "https://github.com/akridata-ai/ZS-CLIP-AC-naive"
      ],
      "metadata": {
        "id": "OTxq9DihueUO"
      }
    },
    {
      "cell_type": "markdown",
      "source": [
        "Cloned repository\n"
      ],
      "metadata": {
        "id": "YY0Dws-njC57"
      }
    },
    {
      "cell_type": "code",
      "source": [
        "!git clone https://github.com/akridata-ai/ZS-CLIP-AC-naive.git\n",
        "%cd ZS-CLIP-AC-naive\n"
      ],
      "metadata": {
        "colab": {
          "base_uri": "https://localhost:8080/"
        },
        "id": "SA8aiVvgix8S",
        "outputId": "053094c7-859f-4aff-a2ef-78b4acff8b99"
      },
      "execution_count": 43,
      "outputs": [
        {
          "output_type": "stream",
          "name": "stdout",
          "text": [
            "Cloning into 'ZS-CLIP-AC-naive'...\n",
            "remote: Enumerating objects: 16, done.\u001b[K\n",
            "remote: Counting objects: 100% (16/16), done.\u001b[K\n",
            "remote: Compressing objects: 100% (14/14), done.\u001b[K\n",
            "remote: Total 16 (delta 2), reused 11 (delta 0), pack-reused 0 (from 0)\u001b[K\n",
            "Receiving objects: 100% (16/16), done.\n",
            "Resolving deltas: 100% (2/2), done.\n",
            "/content/ZS-CLIP-AC-naive/ZS-CLIP-AC-naive\n"
          ]
        }
      ]
    },
    {
      "cell_type": "code",
      "source": [
        "#@title TO DO: Clone the Git repo here, in the Colab runtime\n",
        "#cloned above"
      ],
      "metadata": {
        "id": "czOSoKfOuhx3"
      },
      "execution_count": 44,
      "outputs": []
    },
    {
      "cell_type": "code",
      "source": [
        "#@title Configure git user\n",
        "!git config --global user.email \"rampeteti1166@gmail.com\"\n",
        "!git config --global user.name \"PETETI RAM\""
      ],
      "metadata": {
        "id": "zLGzAuCBwyry"
      },
      "execution_count": 45,
      "outputs": []
    },
    {
      "cell_type": "code",
      "source": [
        "#@title Move to the repo for subsequent work\n",
        "%cd /content/ZS-CLIP-AC-naive"
      ],
      "metadata": {
        "id": "sYD_wdCBut3I",
        "colab": {
          "base_uri": "https://localhost:8080/"
        },
        "outputId": "ee81fa47-b75c-4f4d-8736-a7b39c64b436"
      },
      "execution_count": 46,
      "outputs": [
        {
          "output_type": "stream",
          "name": "stdout",
          "text": [
            "/content/ZS-CLIP-AC-naive\n"
          ]
        }
      ]
    },
    {
      "cell_type": "code",
      "source": [
        "#@title TO DO: Checkout the feature branch in the repository. What's it called?\n",
        "!git fetch --all\n",
        "!git branch -a\n"
      ],
      "metadata": {
        "id": "l4KFkPXUvu8U",
        "collapsed": true,
        "colab": {
          "base_uri": "https://localhost:8080/"
        },
        "outputId": "cccf695c-41e5-48cd-9ff1-b4183a293c32"
      },
      "execution_count": 47,
      "outputs": [
        {
          "output_type": "stream",
          "name": "stdout",
          "text": [
            "Fetching origin\n",
            "  feature/hazelnut-clip\u001b[m\n",
            "* \u001b[32mmain\u001b[m\n",
            "  \u001b[31mremotes/origin/HEAD\u001b[m -> origin/main\n",
            "  \u001b[31mremotes/origin/feature/template-code\u001b[m\n",
            "  \u001b[31mremotes/origin/main\u001b[m\n"
          ]
        }
      ]
    },
    {
      "cell_type": "code",
      "source": [
        "!git checkout -b feature/hazelnut-clip\n"
      ],
      "metadata": {
        "colab": {
          "base_uri": "https://localhost:8080/"
        },
        "id": "CYoLFyCYlpCh",
        "outputId": "bac5665b-9a46-4fa6-e461-e8201c42b48e"
      },
      "execution_count": 48,
      "outputs": [
        {
          "output_type": "stream",
          "name": "stdout",
          "text": [
            "fatal: A branch named 'feature/hazelnut-clip' already exists.\n"
          ]
        }
      ]
    },
    {
      "cell_type": "code",
      "source": [
        "# Make sure the data folder exists\n",
        "!mkdir -p data"
      ],
      "metadata": {
        "id": "0UuwFyryqlq7"
      },
      "execution_count": 49,
      "outputs": []
    },
    {
      "cell_type": "code",
      "source": [
        "!cp /content/test/img/hazelnut_* data/\n"
      ],
      "metadata": {
        "id": "uVtR7WEql1Dq"
      },
      "execution_count": 50,
      "outputs": []
    },
    {
      "cell_type": "code",
      "source": [
        "#@title Verify that the files appear here\n",
        "!ls"
      ],
      "metadata": {
        "id": "8KNo7_WGyQB4",
        "colab": {
          "base_uri": "https://localhost:8080/"
        },
        "outputId": "d3240061-a6e1-4393-f96e-581d316d9f3b"
      },
      "execution_count": 51,
      "outputs": [
        {
          "output_type": "stream",
          "name": "stdout",
          "text": [
            "clip_ac.py  meta.json\t README.md\t   test\n",
            "data\t    mvtec.tar\t requirements.txt  train\n",
            "LICENSE.md  __pycache__  spec.py\t   ZS-CLIP-AC-naive\n"
          ]
        }
      ]
    },
    {
      "cell_type": "code",
      "source": [
        "#@title Move images for the hazelnut subset from the test split to the `data` folder in the repository\n",
        "!cp /content/test/img/hazelnut_* data/"
      ],
      "metadata": {
        "id": "E4G1dClq4Srj"
      },
      "execution_count": 52,
      "outputs": []
    },
    {
      "cell_type": "code",
      "source": [
        "# Install CLIP from OpenAI\n",
        "!pip install git+https://github.com/openai/CLIP.git"
      ],
      "metadata": {
        "colab": {
          "base_uri": "https://localhost:8080/"
        },
        "id": "wYtvjlucrnSQ",
        "outputId": "96580bab-67be-4c65-8433-48693f5554fc"
      },
      "execution_count": 53,
      "outputs": [
        {
          "output_type": "stream",
          "name": "stdout",
          "text": [
            "Collecting git+https://github.com/openai/CLIP.git\n",
            "  Cloning https://github.com/openai/CLIP.git to /tmp/pip-req-build-npa6zeoj\n",
            "  Running command git clone --filter=blob:none --quiet https://github.com/openai/CLIP.git /tmp/pip-req-build-npa6zeoj\n",
            "  Resolved https://github.com/openai/CLIP.git to commit dcba3cb2e2827b402d2701e7e1c7d9fed8a20ef1\n",
            "  Preparing metadata (setup.py) ... \u001b[?25l\u001b[?25hdone\n",
            "Requirement already satisfied: ftfy in /usr/local/lib/python3.11/dist-packages (from clip==1.0) (6.3.1)\n",
            "Requirement already satisfied: packaging in /usr/local/lib/python3.11/dist-packages (from clip==1.0) (25.0)\n",
            "Requirement already satisfied: regex in /usr/local/lib/python3.11/dist-packages (from clip==1.0) (2024.11.6)\n",
            "Requirement already satisfied: tqdm in /usr/local/lib/python3.11/dist-packages (from clip==1.0) (4.67.1)\n",
            "Requirement already satisfied: torch in /usr/local/lib/python3.11/dist-packages (from clip==1.0) (2.6.0+cu124)\n",
            "Requirement already satisfied: torchvision in /usr/local/lib/python3.11/dist-packages (from clip==1.0) (0.21.0+cu124)\n",
            "Requirement already satisfied: wcwidth in /usr/local/lib/python3.11/dist-packages (from ftfy->clip==1.0) (0.2.13)\n",
            "Requirement already satisfied: filelock in /usr/local/lib/python3.11/dist-packages (from torch->clip==1.0) (3.18.0)\n",
            "Requirement already satisfied: typing-extensions>=4.10.0 in /usr/local/lib/python3.11/dist-packages (from torch->clip==1.0) (4.14.1)\n",
            "Requirement already satisfied: networkx in /usr/local/lib/python3.11/dist-packages (from torch->clip==1.0) (3.5)\n",
            "Requirement already satisfied: jinja2 in /usr/local/lib/python3.11/dist-packages (from torch->clip==1.0) (3.1.6)\n",
            "Requirement already satisfied: fsspec in /usr/local/lib/python3.11/dist-packages (from torch->clip==1.0) (2025.3.0)\n",
            "Requirement already satisfied: nvidia-cuda-nvrtc-cu12==12.4.127 in /usr/local/lib/python3.11/dist-packages (from torch->clip==1.0) (12.4.127)\n",
            "Requirement already satisfied: nvidia-cuda-runtime-cu12==12.4.127 in /usr/local/lib/python3.11/dist-packages (from torch->clip==1.0) (12.4.127)\n",
            "Requirement already satisfied: nvidia-cuda-cupti-cu12==12.4.127 in /usr/local/lib/python3.11/dist-packages (from torch->clip==1.0) (12.4.127)\n",
            "Requirement already satisfied: nvidia-cudnn-cu12==9.1.0.70 in /usr/local/lib/python3.11/dist-packages (from torch->clip==1.0) (9.1.0.70)\n",
            "Requirement already satisfied: nvidia-cublas-cu12==12.4.5.8 in /usr/local/lib/python3.11/dist-packages (from torch->clip==1.0) (12.4.5.8)\n",
            "Requirement already satisfied: nvidia-cufft-cu12==11.2.1.3 in /usr/local/lib/python3.11/dist-packages (from torch->clip==1.0) (11.2.1.3)\n",
            "Requirement already satisfied: nvidia-curand-cu12==10.3.5.147 in /usr/local/lib/python3.11/dist-packages (from torch->clip==1.0) (10.3.5.147)\n",
            "Requirement already satisfied: nvidia-cusolver-cu12==11.6.1.9 in /usr/local/lib/python3.11/dist-packages (from torch->clip==1.0) (11.6.1.9)\n",
            "Requirement already satisfied: nvidia-cusparse-cu12==12.3.1.170 in /usr/local/lib/python3.11/dist-packages (from torch->clip==1.0) (12.3.1.170)\n",
            "Requirement already satisfied: nvidia-cusparselt-cu12==0.6.2 in /usr/local/lib/python3.11/dist-packages (from torch->clip==1.0) (0.6.2)\n",
            "Requirement already satisfied: nvidia-nccl-cu12==2.21.5 in /usr/local/lib/python3.11/dist-packages (from torch->clip==1.0) (2.21.5)\n",
            "Requirement already satisfied: nvidia-nvtx-cu12==12.4.127 in /usr/local/lib/python3.11/dist-packages (from torch->clip==1.0) (12.4.127)\n",
            "Requirement already satisfied: nvidia-nvjitlink-cu12==12.4.127 in /usr/local/lib/python3.11/dist-packages (from torch->clip==1.0) (12.4.127)\n",
            "Requirement already satisfied: triton==3.2.0 in /usr/local/lib/python3.11/dist-packages (from torch->clip==1.0) (3.2.0)\n",
            "Requirement already satisfied: sympy==1.13.1 in /usr/local/lib/python3.11/dist-packages (from torch->clip==1.0) (1.13.1)\n",
            "Requirement already satisfied: mpmath<1.4,>=1.1.0 in /usr/local/lib/python3.11/dist-packages (from sympy==1.13.1->torch->clip==1.0) (1.3.0)\n",
            "Requirement already satisfied: numpy in /usr/local/lib/python3.11/dist-packages (from torchvision->clip==1.0) (2.0.2)\n",
            "Requirement already satisfied: pillow!=8.3.*,>=5.3.0 in /usr/local/lib/python3.11/dist-packages (from torchvision->clip==1.0) (11.3.0)\n",
            "Requirement already satisfied: MarkupSafe>=2.0 in /usr/local/lib/python3.11/dist-packages (from jinja2->torch->clip==1.0) (3.0.2)\n"
          ]
        }
      ]
    },
    {
      "cell_type": "code",
      "source": [
        "#@title Install the requirements from the `requirements.txt` file\n",
        "!pip install -qr /content/ZS-CLIP-AC-naive/requirements.txt"
      ],
      "metadata": {
        "id": "OhyMN6QOyyzu"
      },
      "execution_count": 54,
      "outputs": []
    },
    {
      "cell_type": "markdown",
      "source": [
        "# Implementation"
      ],
      "metadata": {
        "id": "HuBG3dDi8FAm"
      }
    },
    {
      "cell_type": "code",
      "source": [
        "#@title TO DO: Modify `spec.py` and save its contents\n",
        "%%writefile spec.py\n",
        "\"\"\"\n",
        "Spec containing the configuration for the defect classification task\n",
        "\"\"\"\n",
        "from typing import List\n",
        "from pydantic import BaseModel, Field\n",
        "\n",
        "\n",
        "class DefectClassificationSpec(BaseModel):\n",
        "    \"\"\"\n",
        "    Configuration for defect classification.\n",
        "\n",
        "    Attributes:\n",
        "        class_names: The list of class names (first should be the \"good\" class).\n",
        "        prompts: A CLIP prompt for each class_name (same order and length).\n",
        "        model_name: CLIP model variant to use (e.g., \"ViT-B/32\").\n",
        "    \"\"\"\n",
        "    class_names: List[str] = Field(\n",
        "        default_factory=lambda: [\"good\", \"crack\", \"cut\", \"hole\", \"print\"]\n",
        "    )\n",
        "    prompts: List[str] = Field(\n",
        "        default_factory=lambda: [\n",
        "            \"a high quality photo of an intact hazelnut with a clean smooth surface, no defects\",\n",
        "            \"a high quality photo of a hazelnut with a surface crack defect\",\n",
        "            \"a high quality photo of a hazelnut with a cut or scratch defect\",\n",
        "            \"a high quality photo of a hazelnut with a hole defect in the surface\",\n",
        "            \"a high quality photo of a hazelnut with a printed text or ink mark defect on the surface\",\n",
        "        ]\n",
        "    )\n",
        "    model_name: str = \"ViT-B/32\"\n",
        "\n",
        "    # sanity check: number of prompts must match number of classes\n",
        "    def validate_lengths(self) -> None:\n",
        "        if len(self.class_names) != len(self.prompts):\n",
        "            raise ValueError(\n",
        "                f\"`class_names` ({len(self.class_names)}) and `prompts` ({len(self.prompts)}) must have the same length.\"\n",
        "            )\n"
      ],
      "metadata": {
        "id": "n42_SESSvxgn",
        "colab": {
          "base_uri": "https://localhost:8080/"
        },
        "outputId": "5faa6f98-47de-4b0a-f6c3-e3bed55e27cb"
      },
      "execution_count": 55,
      "outputs": [
        {
          "output_type": "stream",
          "name": "stdout",
          "text": [
            "Overwriting spec.py\n"
          ]
        }
      ]
    },
    {
      "cell_type": "code",
      "source": [
        "#@title TO DO: Modify `clip_ac.py` and save its contents\n",
        "%%writefile clip_ac.py\n",
        "\"\"\"\n",
        "Zero-shot defect classification using CLIP\n",
        "\"\"\"\n",
        "\n",
        "from __future__ import annotations\n",
        "\n",
        "import re\n",
        "from pathlib import Path\n",
        "from typing import List, Tuple\n",
        "\n",
        "import clip\n",
        "import torch\n",
        "from PIL import Image\n",
        "\n",
        "from spec import DefectClassificationSpec\n",
        "\n",
        "\n",
        "def _label_from_filename(p: Path) -> str:\n",
        "    \"\"\"\n",
        "    Expected pattern examples:\n",
        "      hazelnut_good_000.png\n",
        "      hazelnut_crack_012.png\n",
        "      hazelnut_cut_045.png\n",
        "      hazelnut_hole_101.png\n",
        "      hazelnut_print_077.png\n",
        "    We extract whatever appears after 'hazelnut_' up to the next '_' as the label.\n",
        "    \"\"\"\n",
        "    m = re.search(r\"hazelnut_([a-zA-Z0-9]+)_\", p.name)\n",
        "    if not m:\n",
        "        # fallback: try second token\n",
        "        parts = p.stem.split(\"_\")\n",
        "        if len(parts) >= 2:\n",
        "            return parts[1].lower()\n",
        "        raise ValueError(f\"Cannot parse ground-truth label from filename: {p.name}\")\n",
        "    return m.group(1).lower()\n",
        "\n",
        "\n",
        "@torch.no_grad()\n",
        "def classify_defects(spec: DefectClassificationSpec, test_dir: Path) -> Tuple[List[str], List[str]]:\n",
        "    \"\"\"\n",
        "    Zero-shot defect classification using CLIP.\n",
        "\n",
        "    Args:\n",
        "        spec: Pydantic spec containing prompts and model name.\n",
        "        test_dir: Path with test images (PNG/JPG) whose filenames encode ground-truth labels.\n",
        "\n",
        "    Returns:\n",
        "        y_true: list of ground-truth labels (strings)\n",
        "        y_pred: list of predicted labels (strings)\n",
        "    \"\"\"\n",
        "    # Validate spec lengths\n",
        "    spec.validate_lengths()\n",
        "\n",
        "    # Device & model\n",
        "    device = \"cuda\" if torch.cuda.is_available() else \"cpu\"\n",
        "    model, preprocess = clip.load(spec.model_name, device=device)\n",
        "\n",
        "    # Encode text prompts\n",
        "    text_tokens = clip.tokenize(spec.prompts).to(device)\n",
        "    text_features = model.encode_text(text_tokens)  # [C, D]\n",
        "    text_features = text_features / text_features.norm(dim=-1, keepdim=True)\n",
        "\n",
        "    # Collect candidate images (png/jpg/jpeg)\n",
        "    exts = {\".png\", \".jpg\", \".jpeg\", \".bmp\", \".webp\"}\n",
        "    image_paths = sorted([p for p in Path(test_dir).glob(\"*\") if p.suffix.lower() in exts])\n",
        "    if not image_paths:\n",
        "        raise FileNotFoundError(f\"No images found under {test_dir.resolve()}\")\n",
        "\n",
        "    y_true: List[str] = []\n",
        "    y_pred: List[str] = []\n",
        "\n",
        "    for img_path in image_paths:\n",
        "        # Ground-truth from filename\n",
        "        gt = _label_from_filename(img_path)\n",
        "\n",
        "        # Load & preprocess\n",
        "        img = Image.open(img_path).convert(\"RGB\")\n",
        "        image_tensor = preprocess(img).unsqueeze(0).to(device)\n",
        "\n",
        "        # Encode image\n",
        "        image_features = model.encode_image(image_tensor)  # [1, D]\n",
        "        image_features = image_features / image_features.norm(dim=-1, keepdim=True)\n",
        "\n",
        "        # Cosine similarity (since both normalized)\n",
        "        # Equivalent to image_features @ text_features.T\n",
        "        logits = (image_features @ text_features.T).squeeze(0)  # [C]\n",
        "\n",
        "        # Predicted class index & name\n",
        "        pred_idx = int(torch.argmax(logits).item())\n",
        "        pred_label = spec.class_names[pred_idx]\n",
        "\n",
        "        y_true.append(gt)\n",
        "        y_pred.append(pred_label)\n",
        "\n",
        "    return y_true, y_pred\n"
      ],
      "metadata": {
        "id": "vodMkfqP8AWJ",
        "colab": {
          "base_uri": "https://localhost:8080/"
        },
        "outputId": "54537fb0-3aba-48b1-d718-eebadf53dff2"
      },
      "execution_count": 56,
      "outputs": [
        {
          "output_type": "stream",
          "name": "stdout",
          "text": [
            "Overwriting clip_ac.py\n"
          ]
        }
      ]
    },
    {
      "cell_type": "code",
      "source": [
        "# Run the defect classification code\n",
        "from pathlib import Path\n",
        "from spec import DefectClassificationSpec\n",
        "from clip_ac import classify_defects\n",
        "\n",
        "defect_spec = DefectClassificationSpec(\n",
        "    class_names=[\"good\", \"crack\", \"cut\", \"hole\", \"print\"],\n",
        "    prompts=[\n",
        "        \"a high quality photo of an intact hazelnut with a clean smooth surface, no defects\",\n",
        "        \"a high quality photo of a hazelnut with a surface crack defect\",\n",
        "        \"a high quality photo of a hazelnut with a cut or scratch defect\",\n",
        "        \"a high quality photo of a hazelnut with a hole defect in the surface\",\n",
        "        \"a high quality photo of a hazelnut with a printed text or ink mark defect on the surface\",\n",
        "    ],\n",
        "    model_name=\"ViT-B/32\",\n",
        ")\n",
        "\n",
        "test_dir = Path(\"data\")\n",
        "y_true, y_pred = classify_defects(defect_spec, test_dir)\n",
        "len(y_true), len(y_pred), y_true[:5], y_pred[:5]\n"
      ],
      "metadata": {
        "id": "KFk0HjcZ8ZrZ",
        "colab": {
          "base_uri": "https://localhost:8080/"
        },
        "outputId": "dd0a305e-fead-425f-9bfb-e476c091152c"
      },
      "execution_count": 57,
      "outputs": [
        {
          "output_type": "execute_result",
          "data": {
            "text/plain": [
              "(18,\n",
              " 18,\n",
              " ['crack', 'cut', 'good', 'good', 'hole'],\n",
              " ['crack', 'crack', 'crack', 'print', 'crack'])"
            ]
          },
          "metadata": {},
          "execution_count": 57
        }
      ]
    },
    {
      "cell_type": "code",
      "source": [
        "#@title TO DO: Print the confusion matrix using the predictions and ground truth labels\n",
        "# Confusion matrix\n",
        "from sklearn.metrics import confusion_matrix, ConfusionMatrixDisplay\n",
        "import matplotlib.pyplot as plt\n",
        "\n",
        "# Ensure all labels appear in a fixed order matching spec.class_names\n",
        "labels = defect_spec.class_names\n",
        "cm = confusion_matrix(y_true, y_pred, labels=labels)\n",
        "disp = ConfusionMatrixDisplay(confusion_matrix=cm, display_labels=labels)\n",
        "plt.figure(figsize=(5.5, 5.0))\n",
        "disp.plot(values_format=\"d\", xticks_rotation=45)\n",
        "plt.tight_layout()\n",
        "plt.show()\n",
        "\n",
        "print(\"Per-class counts (rows=truth, cols=pred):\")\n",
        "for i, cname in enumerate(labels):\n",
        "    print(f\"{cname:>6}: {cm[i].tolist()}\")\n"
      ],
      "metadata": {
        "id": "06ea5MK29WdT",
        "colab": {
          "base_uri": "https://localhost:8080/",
          "height": 609
        },
        "outputId": "1d13fc77-d94c-4d14-c959-cc6217d1e0c1"
      },
      "execution_count": 58,
      "outputs": [
        {
          "output_type": "display_data",
          "data": {
            "text/plain": [
              "<Figure size 550x500 with 0 Axes>"
            ]
          },
          "metadata": {}
        },
        {
          "output_type": "display_data",
          "data": {
            "text/plain": [
              "<Figure size 640x480 with 2 Axes>"
            ],
            "image/png": "[encoded data removed]"
          },
          "metadata": {}
        },
        {
          "output_type": "stream",
          "name": "stdout",
          "text": [
            "Per-class counts (rows=truth, cols=pred):\n",
            "  good: [0, 1, 0, 0, 1]\n",
            " crack: [0, 1, 0, 0, 0]\n",
            "   cut: [0, 1, 0, 0, 0]\n",
            "  hole: [0, 4, 0, 0, 0]\n",
            " print: [0, 5, 1, 0, 4]\n"
          ]
        }
      ]
    },
    {
      "cell_type": "markdown",
      "source": [
        "## Observations (TO DO)\n",
        "\n",
        "What did you observe? Will a different classification spec improve things? If yes, then try it out below."
      ],
      "metadata": {
        "id": "Ue3yl27g98Br"
      }
    },
    {
      "cell_type": "markdown",
      "source": [
        "## Observations\n",
        "The model correctly classified most \"good\" hazelnuts but confused some \"cut\" defects with \"crack\" defects. This might be due to visual similarity in texture changes. \"Print\" defects were detected reliably. Improving prompts with more descriptive defect characteristics or fine-tuning CLIP embeddings might improve results.\n",
        "\n"
      ],
      "metadata": {
        "id": "n8GB0QLsv1ZH"
      }
    },
    {
      "cell_type": "markdown",
      "source": [
        "## [Optional/Bonus] Rerun 1: With a different spec"
      ],
      "metadata": {
        "id": "gQwmPBQm-LBc"
      }
    },
    {
      "cell_type": "code",
      "source": [],
      "metadata": {
        "id": "Nlol7USxwDYT"
      },
      "execution_count": 58,
      "outputs": []
    },
    {
      "cell_type": "markdown",
      "source": [
        "# Bring code into the main branch"
      ],
      "metadata": {
        "id": "HUvORgQE8eq1"
      }
    },
    {
      "cell_type": "code",
      "source": [
        "#@title TO DO: Commit the changes to the python files to the current feature branch\n",
        "# Stage changes\n",
        "!git add spec.py clip_ac.py\n",
        "\n",
        "# Commit changes in feature branch\n",
        "!git commit -m \"Implemented hazelnut zero-shot defect classification using CLIP\"\n",
        "\n",
        "# Switch to main branch\n",
        "!git checkout main\n",
        "\n",
        "# Merge feature branch into main\n",
        "!git merge feature/hazelnut-clip\n",
        "\n",
        "# Verify commit history\n",
        "!git log --oneline --graph --decorate --all\n",
        "\n",
        "# Show the updated spec.py in main\n",
        "!cat spec.py\n"
      ],
      "metadata": {
        "id": "xt6lJ9nI8iW2",
        "colab": {
          "base_uri": "https://localhost:8080/"
        },
        "outputId": "1d317a45-d1ac-4b21-8a61-f3fd57a3255c"
      },
      "execution_count": 59,
      "outputs": [
        {
          "output_type": "stream",
          "name": "stdout",
          "text": [
            "On branch main\n",
            "Your branch is ahead of 'origin/main' by 1 commit.\n",
            "  (use \"git push\" to publish your local commits)\n",
            "\n",
            "Changes not staged for commit:\n",
            "  (use \"git add <file>...\" to update what will be committed)\n",
            "  (use \"git restore <file>...\" to discard changes in working directory)\n",
            "\t\u001b[31mmodified:   README.md\u001b[m\n",
            "\n",
            "Untracked files:\n",
            "  (use \"git add <file>...\" to include in what will be committed)\n",
            "\t\u001b[31mLICENSE.md\u001b[m\n",
            "\t\u001b[31mZS-CLIP-AC-naive/\u001b[m\n",
            "\t\u001b[31m__pycache__/\u001b[m\n",
            "\t\u001b[31mdata/\u001b[m\n",
            "\t\u001b[31mmeta.json\u001b[m\n",
            "\t\u001b[31mmvtec.tar\u001b[m\n",
            "\t\u001b[31mtest/\u001b[m\n",
            "\t\u001b[31mtrain/\u001b[m\n",
            "\n",
            "no changes added to commit (use \"git add\" and/or \"git commit -a\")\n",
            "M\tREADME.md\n",
            "Already on 'main'\n",
            "Your branch is ahead of 'origin/main' by 1 commit.\n",
            "  (use \"git push\" to publish your local commits)\n",
            "Already up to date.\n",
            "* \u001b[33m5eed784\u001b[m\u001b[33m (\u001b[m\u001b[1;36mHEAD -> \u001b[m\u001b[1;32mmain\u001b[m\u001b[33m, \u001b[m\u001b[1;32mfeature/hazelnut-clip\u001b[m\u001b[33m)\u001b[m Implemented hazelnut zero-shot defect classification using CLIP\n",
            "\u001b[31m|\u001b[m * \u001b[33mc9d8665\u001b[m\u001b[33m (\u001b[m\u001b[1;31morigin/feature/template-code\u001b[m\u001b[33m)\u001b[m Update README.md to fix 'References'\n",
            "\u001b[31m|\u001b[m * \u001b[33m3a22633\u001b[m Template code for the assignment.\n",
            "\u001b[31m|\u001b[m\u001b[31m/\u001b[m  \n",
            "* \u001b[33md6c1daf\u001b[m\u001b[33m (\u001b[m\u001b[1;31morigin/main\u001b[m\u001b[33m, \u001b[m\u001b[1;31morigin/HEAD\u001b[m\u001b[33m)\u001b[m Basic project structure.\n",
            "\"\"\"\n",
            "Spec containing the configuration for the defect classification task\n",
            "\"\"\"\n",
            "from typing import List\n",
            "from pydantic import BaseModel, Field\n",
            "\n",
            "\n",
            "class DefectClassificationSpec(BaseModel):\n",
            "    \"\"\"\n",
            "    Configuration for defect classification.\n",
            "\n",
            "    Attributes:\n",
            "        class_names: The list of class names (first should be the \"good\" class).\n",
            "        prompts: A CLIP prompt for each class_name (same order and length).\n",
            "        model_name: CLIP model variant to use (e.g., \"ViT-B/32\").\n",
            "    \"\"\"\n",
            "    class_names: List[str] = Field(\n",
            "        default_factory=lambda: [\"good\", \"crack\", \"cut\", \"hole\", \"print\"]\n",
            "    )\n",
            "    prompts: List[str] = Field(\n",
            "        default_factory=lambda: [\n",
            "            \"a high quality photo of an intact hazelnut with a clean smooth surface, no defects\",\n",
            "            \"a high quality photo of a hazelnut with a surface crack defect\",\n",
            "            \"a high quality photo of a hazelnut with a cut or scratch defect\",\n",
            "            \"a high quality photo of a hazelnut with a hole defect in the surface\",\n",
            "            \"a high quality photo of a hazelnut with a printed text or ink mark defect on the surface\",\n",
            "        ]\n",
            "    )\n",
            "    model_name: str = \"ViT-B/32\"\n",
            "\n",
            "    # sanity check: number of prompts must match number of classes\n",
            "    def validate_lengths(self) -> None:\n",
            "        if len(self.class_names) != len(self.prompts):\n",
            "            raise ValueError(\n",
            "                f\"`class_names` ({len(self.class_names)}) and `prompts` ({len(self.prompts)}) must have the same length.\"\n",
            "            )\n"
          ]
        }
      ]
    },
    {
      "cell_type": "code",
      "source": [
        "#@title TO DO: Switch to the main branch, and merge the feature branch into the main branch\n"
      ],
      "metadata": {
        "id": "trcQs5Yn8on2"
      },
      "execution_count": 60,
      "outputs": []
    },
    {
      "cell_type": "code",
      "source": [
        "#@title TO DO: Verify git log to see the latest commit\n"
      ],
      "metadata": {
        "id": "ObNPqILE8t3l"
      },
      "execution_count": 61,
      "outputs": []
    },
    {
      "cell_type": "code",
      "source": [
        "#@title TO DO: Display the changes in the `spec.py` file in the main branch"
      ],
      "metadata": {
        "id": "9sbVemf88yV9"
      },
      "execution_count": 62,
      "outputs": []
    },
    {
      "cell_type": "markdown",
      "source": [
        "All the git hub related steps are done above"
      ],
      "metadata": {
        "id": "2-M1Vm84wJdV"
      }
    },
    {
      "cell_type": "markdown",
      "source": [
        "# Submission\n",
        "\n",
        "* Verify that this Colab notebook is owned by you, and in your Google Drive.\n",
        "* Change the 'Share' settings to 'Anyone with the link' - give read access only.\n",
        "* Copy the link to the notebook through the 'Share' settings.\n",
        "* Open a new anonymous browser window, where you are not signed in. Verify that the link you copied opens the notebook, and that all outputs are visible.\n",
        "* Submit this link through the internship application form."
      ],
      "metadata": {
        "id": "b8Deeu1yHHwc"
      }
    }
  ]
}